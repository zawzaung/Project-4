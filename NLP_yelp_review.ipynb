{
 "cells": [
  {
   "cell_type": "code",
   "execution_count": 112,
   "metadata": {
    "ExecuteTime": {
     "end_time": "2020-02-28T05:00:21.788966Z",
     "start_time": "2020-02-28T05:00:21.778010Z"
    }
   },
   "outputs": [],
   "source": [
    "import sys\n",
    "import pickle\n",
    "import pandas as pd\n",
    "from nltk.corpus import stopwords\n",
    "from nltk.corpus import wordnet\n",
    "import nltk\n",
    "import numpy as np\n",
    "from textblob import Word\n",
    "from wordcloud import WordCloud, STOPWORDS, ImageColorGenerator\n",
    "import matplotlib.pyplot as plt\n",
    "from sklearn.feature_extraction import text\n",
    "from sklearn.feature_extraction.text import CountVectorizer\n",
    "from sklearn.feature_extraction.text import TfidfVectorizer\n",
    "import requests\n",
    "from sklearn.decomposition import TruncatedSVD\n",
    "from sklearn.decomposition import NMF\n",
    "from sklearn.metrics.pairwise import cosine_similarity\n",
    "from nltk import word_tokenize, pos_tag\n",
    "\n",
    "%matplotlib inline\n",
    "import seaborn as sns\n",
    "import matplotlib.pyplot as plt\n"
   ]
  },
  {
   "cell_type": "code",
   "execution_count": 2,
   "metadata": {
    "ExecuteTime": {
     "end_time": "2020-02-28T00:00:21.606045Z",
     "start_time": "2020-02-28T00:00:21.588414Z"
    }
   },
   "outputs": [],
   "source": [
    "#Open the saved df\n",
    "with open('date_rating_review_PurpleKow.pickle','rb') as read_file:\n",
    "    df = pickle.load(read_file)"
   ]
  },
  {
   "cell_type": "code",
   "execution_count": 3,
   "metadata": {
    "ExecuteTime": {
     "end_time": "2020-02-28T00:00:23.219102Z",
     "start_time": "2020-02-28T00:00:23.205129Z"
    }
   },
   "outputs": [],
   "source": [
    "df['Year'] = pd.to_datetime(df['Date'], format= '%m/%d/%Y')"
   ]
  },
  {
   "cell_type": "markdown",
   "metadata": {},
   "source": [
    "## EDA\n"
   ]
  },
  {
   "cell_type": "code",
   "execution_count": 4,
   "metadata": {
    "ExecuteTime": {
     "end_time": "2020-02-28T00:00:24.831950Z",
     "start_time": "2020-02-28T00:00:24.826184Z"
    }
   },
   "outputs": [],
   "source": [
    "#Find the length of each review\n",
    "df['review length'] = df['Review'].apply(len)"
   ]
  },
  {
   "cell_type": "code",
   "execution_count": 8,
   "metadata": {
    "ExecuteTime": {
     "end_time": "2020-02-28T00:00:47.325919Z",
     "start_time": "2020-02-28T00:00:47.132627Z"
    }
   },
   "outputs": [
    {
     "data": {
      "image/png": "[encoded data removed]",
      "text/plain": [
       "<Figure size 720x432 with 1 Axes>"
      ]
     },
     "metadata": {
      "needs_background": "light"
     },
     "output_type": "display_data"
    }
   ],
   "source": [
    "x=df['Star_Rating'].value_counts()\n",
    "x=x.sort_index()\n",
    "plt.figure(figsize=(10,6))\n",
    "ax= sns.barplot(x.index, x.values, alpha=0.8)\n",
    "plt.title(\"Star Rating Distribution\")\n",
    "plt.ylabel('count')\n",
    "plt.xlabel('Star Ratings')\n",
    "rects = ax.patches\n",
    "labels = x.values\n",
    "# for rect, label in zip(rects, labels):\n",
    "#     height = rect.get_height()\n",
    "#     ax.text(rect.get_x() + rect.get_width()/2, height + 5, label, ha='center', va='bottom')\n",
    "    \n",
    "plt.savefig('rating_distr.jpg')\n",
    "plt.show();"
   ]
  },
  {
   "cell_type": "code",
   "execution_count": 9,
   "metadata": {
    "ExecuteTime": {
     "end_time": "2020-02-28T00:00:51.654560Z",
     "start_time": "2020-02-28T00:00:50.297063Z"
    }
   },
   "outputs": [
    {
     "data": {
      "image/png": "[encoded data removed]",
      "text/plain": [
       "<Figure size 1080x216 with 5 Axes>"
      ]
     },
     "metadata": {},
     "output_type": "display_data"
    }
   ],
   "source": [
    "sns.set_style('white')\n",
    "g = sns.FacetGrid(df,col='Star_Rating')\n",
    "g.map(plt.hist,'review length')\n",
    "plt.savefig('review_length.jpg')\n",
    "plt.show()"
   ]
  },
  {
   "cell_type": "markdown",
   "metadata": {},
   "source": [
    "## Cleaning Text Data"
   ]
  },
  {
   "cell_type": "code",
   "execution_count": 10,
   "metadata": {
    "ExecuteTime": {
     "end_time": "2020-02-28T00:02:28.248282Z",
     "start_time": "2020-02-28T00:02:28.242099Z"
    }
   },
   "outputs": [],
   "source": [
    "import re\n",
    "import string\n",
    "\n",
    "#function to clean text\n",
    "def clean_text(text):\n",
    "    '''Make text lowercase, remove text in square brackets, remove punctuation and remove words containing numbers.'''\n",
    "    text = text.lower()\n",
    "    text = re.sub('\\[.*?\\!]', '', text) # remove characters in brackets\n",
    "    text = re.sub('[%s]' % re.escape(string.punctuation), '', text) #remove punctuation\n",
    "    text = re.sub('\\w*\\d\\w*', '', text) # remove digits between letters or words\n",
    "    text = re.sub('\\n', '', text) # remove break lines\n",
    "    text = re.sub('0123456789','',text) # remove digits\n",
    "    return text\n",
    "\n",
    "cleantext = lambda x: clean_text(x)"
   ]
  },
  {
   "cell_type": "code",
   "execution_count": 11,
   "metadata": {
    "ExecuteTime": {
     "end_time": "2020-02-28T00:02:29.498413Z",
     "start_time": "2020-02-28T00:02:29.485554Z"
    }
   },
   "outputs": [
    {
     "data": {
      "text/html": [
       "<div>\n",
       "<style scoped>\n",
       "    .dataframe tbody tr th:only-of-type {\n",
       "        vertical-align: middle;\n",
       "    }\n",
       "\n",
       "    .dataframe tbody tr th {\n",
       "        vertical-align: top;\n",
       "    }\n",
       "\n",
       "    .dataframe thead th {\n",
       "        text-align: right;\n",
       "    }\n",
       "</style>\n",
       "<table border=\"1\" class=\"dataframe\">\n",
       "  <thead>\n",
       "    <tr style=\"text-align: right;\">\n",
       "      <th></th>\n",
       "      <th>Date</th>\n",
       "      <th>Star_Rating</th>\n",
       "      <th>Review</th>\n",
       "      <th>Year</th>\n",
       "      <th>review length</th>\n",
       "    </tr>\n",
       "  </thead>\n",
       "  <tbody>\n",
       "    <tr>\n",
       "      <th>0</th>\n",
       "      <td>10/17/2019</td>\n",
       "      <td>5</td>\n",
       "      <td>This place has been around for years! I rememb...</td>\n",
       "      <td>2019-10-17</td>\n",
       "      <td>267</td>\n",
       "    </tr>\n",
       "    <tr>\n",
       "      <th>1</th>\n",
       "      <td>2/4/2020</td>\n",
       "      <td>3</td>\n",
       "      <td>This place is just okay. The layout of the sho...</td>\n",
       "      <td>2020-02-04</td>\n",
       "      <td>695</td>\n",
       "    </tr>\n",
       "    <tr>\n",
       "      <th>2</th>\n",
       "      <td>1/28/2020</td>\n",
       "      <td>3</td>\n",
       "      <td>I went here for the first time and got a D3 (c...</td>\n",
       "      <td>2020-01-28</td>\n",
       "      <td>427</td>\n",
       "    </tr>\n",
       "    <tr>\n",
       "      <th>3</th>\n",
       "      <td>1/1/2020</td>\n",
       "      <td>1</td>\n",
       "      <td>Okay in another world I would be giving a 5 st...</td>\n",
       "      <td>2020-01-01</td>\n",
       "      <td>896</td>\n",
       "    </tr>\n",
       "    <tr>\n",
       "      <th>4</th>\n",
       "      <td>2/24/2020</td>\n",
       "      <td>5</td>\n",
       "      <td>I loved their passion fruit green tea with coc...</td>\n",
       "      <td>2020-02-24</td>\n",
       "      <td>183</td>\n",
       "    </tr>\n",
       "  </tbody>\n",
       "</table>\n",
       "</div>"
      ],
      "text/plain": [
       "         Date  Star_Rating                                             Review  \\\n",
       "0  10/17/2019            5  This place has been around for years! I rememb...   \n",
       "1    2/4/2020            3  This place is just okay. The layout of the sho...   \n",
       "2   1/28/2020            3  I went here for the first time and got a D3 (c...   \n",
       "3    1/1/2020            1  Okay in another world I would be giving a 5 st...   \n",
       "4   2/24/2020            5  I loved their passion fruit green tea with coc...   \n",
       "\n",
       "        Year  review length  \n",
       "0 2019-10-17            267  \n",
       "1 2020-02-04            695  \n",
       "2 2020-01-28            427  \n",
       "3 2020-01-01            896  \n",
       "4 2020-02-24            183  "
      ]
     },
     "execution_count": 11,
     "metadata": {},
     "output_type": "execute_result"
    }
   ],
   "source": [
    "df.head()"
   ]
  },
  {
   "cell_type": "code",
   "execution_count": 12,
   "metadata": {
    "ExecuteTime": {
     "end_time": "2020-02-28T00:02:30.992450Z",
     "start_time": "2020-02-28T00:02:30.793994Z"
    },
    "scrolled": true
   },
   "outputs": [],
   "source": [
    "#cleaning the text using clean_text function\n",
    "df_cleaning = pd.DataFrame(df.Review.apply(cleantext))"
   ]
  },
  {
   "cell_type": "code",
   "execution_count": 13,
   "metadata": {
    "ExecuteTime": {
     "end_time": "2020-02-28T00:02:31.643178Z",
     "start_time": "2020-02-28T00:02:31.573402Z"
    },
    "scrolled": true
   },
   "outputs": [
    {
     "data": {
      "text/html": [
       "<div>\n",
       "<style scoped>\n",
       "    .dataframe tbody tr th:only-of-type {\n",
       "        vertical-align: middle;\n",
       "    }\n",
       "\n",
       "    .dataframe tbody tr th {\n",
       "        vertical-align: top;\n",
       "    }\n",
       "\n",
       "    .dataframe thead th {\n",
       "        text-align: right;\n",
       "    }\n",
       "</style>\n",
       "<table border=\"1\" class=\"dataframe\">\n",
       "  <thead>\n",
       "    <tr style=\"text-align: right;\">\n",
       "      <th></th>\n",
       "      <th>Review</th>\n",
       "    </tr>\n",
       "  </thead>\n",
       "  <tbody>\n",
       "    <tr>\n",
       "      <th>0</th>\n",
       "      <td>this place has been around for years i remembe...</td>\n",
       "    </tr>\n",
       "    <tr>\n",
       "      <th>1</th>\n",
       "      <td>this place is just okay the layout of the shop...</td>\n",
       "    </tr>\n",
       "    <tr>\n",
       "      <th>2</th>\n",
       "      <td>i went here for the first time and got a  cara...</td>\n",
       "    </tr>\n",
       "    <tr>\n",
       "      <th>3</th>\n",
       "      <td>okay in another world i would be giving a  sta...</td>\n",
       "    </tr>\n",
       "    <tr>\n",
       "      <th>4</th>\n",
       "      <td>i loved their passion fruit green tea with coc...</td>\n",
       "    </tr>\n",
       "  </tbody>\n",
       "</table>\n",
       "</div>"
      ],
      "text/plain": [
       "                                              Review\n",
       "0  this place has been around for years i remembe...\n",
       "1  this place is just okay the layout of the shop...\n",
       "2  i went here for the first time and got a  cara...\n",
       "3  okay in another world i would be giving a  sta...\n",
       "4  i loved their passion fruit green tea with coc..."
      ]
     },
     "execution_count": 13,
     "metadata": {},
     "output_type": "execute_result"
    }
   ],
   "source": [
    "df_cleaning.head()"
   ]
  },
  {
   "cell_type": "code",
   "execution_count": 109,
   "metadata": {
    "ExecuteTime": {
     "end_time": "2020-02-28T04:58:48.150873Z",
     "start_time": "2020-02-28T04:58:48.146420Z"
    }
   },
   "outputs": [],
   "source": [
    "#function to only keep Noun and Adjective in text\n",
    "def nouns_adj(text):\n",
    "    '''Given a string of text, tokenize the text and pull out only the nouns and adjectives.'''\n",
    "    is_noun_adj = lambda pos: pos[:2] == 'NN' or pos[:2] == 'JJ'\n",
    "    tokenized = word_tokenize(text)\n",
    "    nouns_adj = [word for (word, pos) in pos_tag(tokenized) if is_noun_adj(pos)] \n",
    "    return ' '.join(nouns_adj)"
   ]
  },
  {
   "cell_type": "code",
   "execution_count": 113,
   "metadata": {
    "ExecuteTime": {
     "end_time": "2020-02-28T05:00:39.085647Z",
     "start_time": "2020-02-28T05:00:28.557692Z"
    }
   },
   "outputs": [],
   "source": [
    "#Keep only Noun and Adjectives in Reviews\n",
    "data_clean = pd.DataFrame(df_cleaning.Review.apply(nouns_adj))"
   ]
  },
  {
   "cell_type": "code",
   "execution_count": 14,
   "metadata": {
    "ExecuteTime": {
     "end_time": "2020-02-28T00:02:33.030317Z",
     "start_time": "2020-02-28T00:02:33.027166Z"
    }
   },
   "outputs": [],
   "source": [
    "#tokenzie and lemmatize\n",
    "w_tokenizer = nltk.tokenize.WhitespaceTokenizer()\n",
    "lemmatizer = nltk.stem.WordNetLemmatizer()"
   ]
  },
  {
   "cell_type": "code",
   "execution_count": 15,
   "metadata": {
    "ExecuteTime": {
     "end_time": "2020-02-28T00:02:36.842884Z",
     "start_time": "2020-02-28T00:02:33.988786Z"
    }
   },
   "outputs": [],
   "source": [
    "data_clean['lem'] = data_clean['Review'].apply(lambda x: \" \".join([Word(word).lemmatize() for word in x.split()]))"
   ]
  },
  {
   "cell_type": "code",
   "execution_count": null,
   "metadata": {
    "ExecuteTime": {
     "end_time": "2020-02-26T05:32:28.745464Z",
     "start_time": "2020-02-26T05:32:28.453576Z"
    },
    "scrolled": true
   },
   "outputs": [],
   "source": [
    "#pickel for later\n",
    "data_clean.to_pickle('data_clean.pkl')"
   ]
  },
  {
   "cell_type": "markdown",
   "metadata": {},
   "source": [
    "## Wordcloud for most frequent words"
   ]
  },
  {
   "cell_type": "code",
   "execution_count": 104,
   "metadata": {
    "ExecuteTime": {
     "end_time": "2020-02-28T04:31:53.474285Z",
     "start_time": "2020-02-28T04:31:52.423365Z"
    },
    "scrolled": true
   },
   "outputs": [
    {
     "data": {
      "image/png": "[encoded data removed]",
      "text/plain": [
       "<PIL.Image.Image image mode=RGB size=400x200 at 0x27466B43D0>"
      ]
     },
     "execution_count": 104,
     "metadata": {},
     "output_type": "execute_result"
    }
   ],
   "source": [
    "long_string = ','.join(list(data_clean['Review'].values))\n",
    "# Create a WordCloud object\n",
    "wordcloud = WordCloud(background_color=\"white\", max_words=500, contour_width=3, contour_color='steelblue')\n",
    "# Generate a word cloud\n",
    "wordcloud.generate(long_string)\n",
    "# Visualize the word cloud\n",
    "wordcloud.to_image()"
   ]
  },
  {
   "cell_type": "markdown",
   "metadata": {},
   "source": [
    "There are some frequent words like 'drink', 'purple', 'kow', 'really', 'place' that will not add a"
   ]
  },
  {
   "cell_type": "markdown",
   "metadata": {},
   "source": [
    "## StopWords"
   ]
  },
  {
   "cell_type": "code",
   "execution_count": 17,
   "metadata": {
    "ExecuteTime": {
     "end_time": "2020-02-28T00:02:44.480659Z",
     "start_time": "2020-02-28T00:02:44.473019Z"
    }
   },
   "outputs": [],
   "source": [
    "stopwords = nltk.corpus.stopwords.words('english')\n",
    "newStopWords = ['purple','kow','drink','people','purple kow','place','wa','half','socal',\n",
    "                'norcal','something','menu','grass','time','make','even','another','order',\n",
    "               'sf','friend','back','get','got','came','come','went','go','sweet','jelly']\n",
    "stopwords.extend(newStopWords)"
   ]
  },
  {
   "cell_type": "markdown",
   "metadata": {},
   "source": [
    "## Count Vectorizer"
   ]
  },
  {
   "cell_type": "code",
   "execution_count": 18,
   "metadata": {
    "ExecuteTime": {
     "end_time": "2020-02-28T00:02:49.793390Z",
     "start_time": "2020-02-28T00:02:48.751798Z"
    }
   },
   "outputs": [],
   "source": [
    "cv = CountVectorizer(stop_words=stopwords, ngram_range=(1,2), max_df = 0.8, min_df=3)\n",
    "data_cv = cv.fit_transform(data_clean.lem)\n",
    "data_dtm = pd.DataFrame(data_cv.toarray(), columns=cv.get_feature_names())\n",
    "pickle.dump(cv,open(\"cv_stop.pkl\",'wb')) \n",
    "data_dtm.to_pickle('dtm_stop.pkl')"
   ]
  },
  {
   "cell_type": "markdown",
   "metadata": {},
   "source": [
    "## TF-IDF Vectorizer"
   ]
  },
  {
   "cell_type": "code",
   "execution_count": 19,
   "metadata": {
    "ExecuteTime": {
     "end_time": "2020-02-28T00:02:51.237860Z",
     "start_time": "2020-02-28T00:02:50.642299Z"
    }
   },
   "outputs": [],
   "source": [
    "tfidf2 = TfidfVectorizer(ngram_range=(1,2), binary=True, stop_words=stopwords, max_df = 0.8, min_df=3)\n",
    "data_tfidf2 = tfidf2.fit_transform(data_clean.lem)"
   ]
  },
  {
   "cell_type": "markdown",
   "metadata": {},
   "source": [
    "## Topic Modeling (LSA, NMF)"
   ]
  },
  {
   "cell_type": "code",
   "execution_count": 20,
   "metadata": {
    "ExecuteTime": {
     "end_time": "2020-02-28T00:03:08.541273Z",
     "start_time": "2020-02-28T00:03:08.535844Z"
    }
   },
   "outputs": [],
   "source": [
    "def display_topics(model, feature_names, no_top_words, topic_names=None):\n",
    "    for ix, topic in enumerate(model.components_):\n",
    "        if not topic_names or not topic_names[ix]:\n",
    "            print(\"\\nTopic \", ix)\n",
    "        else:\n",
    "            print(\"\\nTopic: '\",topic_names[ix],\"'\")\n",
    "        print(\", \".join([feature_names[i] for i in topic.argsort()[:-no_top_words - 1:-1]]))"
   ]
  },
  {
   "cell_type": "markdown",
   "metadata": {},
   "source": [
    "## LSA with TFIDF vectorizer"
   ]
  },
  {
   "cell_type": "code",
   "execution_count": 21,
   "metadata": {
    "ExecuteTime": {
     "end_time": "2020-02-28T00:03:14.852566Z",
     "start_time": "2020-02-28T00:03:14.792238Z"
    }
   },
   "outputs": [
    {
     "data": {
      "text/plain": [
       "array([0.00187112, 0.00431342, 0.00380974, 0.00352042, 0.00327371,\n",
       "       0.00306135, 0.00251781])"
      ]
     },
     "execution_count": 21,
     "metadata": {},
     "output_type": "execute_result"
    }
   ],
   "source": [
    "lsa = TruncatedSVD(7) # set number of topics. here it's 2\n",
    "doc_topic = lsa.fit_transform(data_tfidf2)\n",
    "lsa.explained_variance_ratio_"
   ]
  },
  {
   "cell_type": "code",
   "execution_count": 22,
   "metadata": {
    "ExecuteTime": {
     "end_time": "2020-02-28T00:03:15.777681Z",
     "start_time": "2020-02-28T00:03:15.764366Z"
    }
   },
   "outputs": [],
   "source": [
    "topic_word = pd.DataFrame(lsa.components_.round(3),\n",
    "             index = [\"component_1\",\"component_2\",'component_3','c4','c5','c6','c7'],\n",
    "             columns = tfidf2.get_feature_names())"
   ]
  },
  {
   "cell_type": "code",
   "execution_count": 23,
   "metadata": {
    "ExecuteTime": {
     "end_time": "2020-02-28T00:03:16.623654Z",
     "start_time": "2020-02-28T00:03:16.608187Z"
    }
   },
   "outputs": [
    {
     "name": "stdout",
     "output_type": "stream",
     "text": [
      "\n",
      "Topic  0\n",
      "tea, milk, boba, line, milk tea, wait, good\n",
      "\n",
      "Topic  1\n",
      "pudding, favorite, boba, milk, iced, iced milk, love\n",
      "\n",
      "Topic  2\n",
      "cup, fit, holder, cup holder, car, green, fit cup\n",
      "\n",
      "Topic  3\n",
      "long, worth, cup, wait, fit, holder, cup holder\n",
      "\n",
      "Topic  4\n",
      "iced, pudding, iced milk, pudding boba, caramel, fit, cup holder\n",
      "\n",
      "Topic  5\n",
      "chicken, popcorn, popcorn chicken, holder, fit, cup holder, pepper\n",
      "\n",
      "Topic  6\n",
      "service, customer, favorite, customer service, always, fit, holder\n"
     ]
    }
   ],
   "source": [
    "display_topics(lsa, tfidf2.get_feature_names(), 7)"
   ]
  },
  {
   "cell_type": "markdown",
   "metadata": {},
   "source": [
    "## LSA with count vectorizer"
   ]
  },
  {
   "cell_type": "code",
   "execution_count": 29,
   "metadata": {
    "ExecuteTime": {
     "end_time": "2020-02-28T00:04:29.903984Z",
     "start_time": "2020-02-28T00:04:29.853844Z"
    }
   },
   "outputs": [
    {
     "data": {
      "text/plain": [
       "array([0.08963864, 0.03305697, 0.02340556, 0.01826   , 0.01339197,\n",
       "       0.01141474, 0.00981733])"
      ]
     },
     "execution_count": 29,
     "metadata": {},
     "output_type": "execute_result"
    }
   ],
   "source": [
    "lsa = TruncatedSVD(7) # set number of topics. here it's 2\n",
    "doc_topic_cv = lsa.fit_transform(data_cv)\n",
    "lsa.explained_variance_ratio_"
   ]
  },
  {
   "cell_type": "code",
   "execution_count": 30,
   "metadata": {
    "ExecuteTime": {
     "end_time": "2020-02-28T00:04:30.694867Z",
     "start_time": "2020-02-28T00:04:30.680863Z"
    }
   },
   "outputs": [],
   "source": [
    "topic_word_cv = pd.DataFrame(lsa.components_.round(3),\n",
    "             index = [\"component_1\",\"component_2\",'component_3','c4','c5','c6','c7'],\n",
    "             columns = cv.get_feature_names())"
   ]
  },
  {
   "cell_type": "code",
   "execution_count": 31,
   "metadata": {
    "ExecuteTime": {
     "end_time": "2020-02-28T00:04:31.625070Z",
     "start_time": "2020-02-28T00:04:31.609090Z"
    },
    "scrolled": true
   },
   "outputs": [
    {
     "name": "stdout",
     "output_type": "stream",
     "text": [
      "\n",
      "Topic  0\n",
      "tea, milk, boba, milk tea, like, line, wait\n",
      "\n",
      "Topic  1\n",
      "tea, milk tea, milk, green, green tea, matcha, green milk\n",
      "\n",
      "Topic  2\n",
      "wait, line, minute, long, tapioca, dont, waiting\n",
      "\n",
      "Topic  3\n",
      "tea, green, green tea, boba, fresh, like, fruit\n",
      "\n",
      "Topic  4\n",
      "like, iced, really, iced milk, good, chicken, taste\n",
      "\n",
      "Topic  5\n",
      "cup, fit, holder, cup holder, car, tapioca, minute\n",
      "\n",
      "Topic  6\n",
      "like, milk tea, line, boba, didnt, ordered, dont\n"
     ]
    }
   ],
   "source": [
    "display_topics(lsa,  cv.get_feature_names(), 7)"
   ]
  },
  {
   "cell_type": "markdown",
   "metadata": {},
   "source": [
    "**Topics somewhat make sense with LSA,Tf-idf vectorzier.**"
   ]
  },
  {
   "cell_type": "markdown",
   "metadata": {},
   "source": [
    "## NMF with Count vectorizer"
   ]
  },
  {
   "cell_type": "code",
   "execution_count": 32,
   "metadata": {
    "ExecuteTime": {
     "end_time": "2020-02-28T00:04:56.922137Z",
     "start_time": "2020-02-28T00:04:56.877749Z"
    }
   },
   "outputs": [
    {
     "data": {
      "text/plain": [
       "array([0.08963864, 0.03305695, 0.02340548, 0.01826002, 0.01339042,\n",
       "       0.01141663, 0.00980769])"
      ]
     },
     "execution_count": 32,
     "metadata": {},
     "output_type": "execute_result"
    }
   ],
   "source": [
    "nmf_cv = TruncatedSVD(7) # set number of topics\n",
    "doc_topic_cv = nmf_cv.fit_transform(data_cv)\n",
    "nmf_cv.explained_variance_ratio_"
   ]
  },
  {
   "cell_type": "code",
   "execution_count": 33,
   "metadata": {
    "ExecuteTime": {
     "end_time": "2020-02-28T00:04:57.883578Z",
     "start_time": "2020-02-28T00:04:57.870859Z"
    }
   },
   "outputs": [],
   "source": [
    "topic_word_cv = pd.DataFrame(nmf_cv.components_.round(3),\n",
    "             index = [\"component_1\",\"component_2\",'component_3','component_4',\n",
    "                     'component_5','component_6','component_7'],\n",
    "             columns = cv.get_feature_names())"
   ]
  },
  {
   "cell_type": "code",
   "execution_count": 34,
   "metadata": {
    "ExecuteTime": {
     "end_time": "2020-02-28T00:04:59.625731Z",
     "start_time": "2020-02-28T00:04:59.610491Z"
    }
   },
   "outputs": [
    {
     "name": "stdout",
     "output_type": "stream",
     "text": [
      "\n",
      "Topic  0\n",
      "tea, milk, boba, milk tea, like, line, wait\n",
      "\n",
      "Topic  1\n",
      "tea, milk tea, milk, green, green tea, matcha, green milk\n",
      "\n",
      "Topic  2\n",
      "wait, line, minute, long, tapioca, dont, waiting\n",
      "\n",
      "Topic  3\n",
      "tea, green, green tea, boba, fresh, like, fruit\n",
      "\n",
      "Topic  4\n",
      "like, iced, iced milk, really, chicken, good, taste\n",
      "\n",
      "Topic  5\n",
      "cup, fit, holder, cup holder, car, tapioca, minute\n",
      "\n",
      "Topic  6\n",
      "like, milk tea, boba, line, ordered, didnt, cashier\n"
     ]
    }
   ],
   "source": [
    "display_topics(nmf_cv,  cv.get_feature_names(), 7)"
   ]
  },
  {
   "cell_type": "markdown",
   "metadata": {},
   "source": [
    "**NMF count vectorizer: Most topics make sense.  But there are multiple topics talking just about tea and drink.**"
   ]
  },
  {
   "cell_type": "markdown",
   "metadata": {},
   "source": [
    "## NMF with TFIDF vectorizer"
   ]
  },
  {
   "cell_type": "code",
   "execution_count": 35,
   "metadata": {
    "ExecuteTime": {
     "end_time": "2020-02-28T00:05:07.812976Z",
     "start_time": "2020-02-28T00:05:07.489587Z"
    }
   },
   "outputs": [],
   "source": [
    "nmf_model = NMF(7)\n",
    "doc_topic1 = nmf_model.fit_transform(data_tfidf2)"
   ]
  },
  {
   "cell_type": "code",
   "execution_count": 36,
   "metadata": {
    "ExecuteTime": {
     "end_time": "2020-02-28T00:05:10.637914Z",
     "start_time": "2020-02-28T00:05:10.624496Z"
    }
   },
   "outputs": [],
   "source": [
    "topic_word1 = pd.DataFrame(nmf_model.components_.round(2),\n",
    "             index = [\"component_1\",\"component_2\",\"component_3\",\"component_4\",\n",
    "                      'component_5','component_6','component_7'],\n",
    "             columns = tfidf2.get_feature_names())"
   ]
  },
  {
   "cell_type": "code",
   "execution_count": 37,
   "metadata": {
    "ExecuteTime": {
     "end_time": "2020-02-28T00:05:13.767700Z",
     "start_time": "2020-02-28T00:05:13.752359Z"
    },
    "scrolled": true
   },
   "outputs": [
    {
     "name": "stdout",
     "output_type": "stream",
     "text": [
      "\n",
      "Topic  0\n",
      "minute, waiting, dont, wait, around, waited, took\n",
      "\n",
      "Topic  1\n",
      "tea, green, milk tea, green tea, milk, tea boba, matcha\n",
      "\n",
      "Topic  2\n",
      "long, line, worth, wait, long line, worth wait, line long\n",
      "\n",
      "Topic  3\n",
      "fit, holder, cup holder, cup, car, fit cup, dont fit\n",
      "\n",
      "Topic  4\n",
      "pudding, iced, iced milk, pudding boba, caramel, boba, milk\n",
      "\n",
      "Topic  5\n",
      "chicken, popcorn, popcorn chicken, pepper, salt, salt pepper, fry\n",
      "\n",
      "Topic  6\n",
      "service, customer, customer service, asked, cashier, slow, rude\n"
     ]
    }
   ],
   "source": [
    "display_topics(nmf_model, tfidf2.get_feature_names(),7)"
   ]
  },
  {
   "cell_type": "markdown",
   "metadata": {},
   "source": [
    "#### With TF-IDF vectorizer, the topis are more unique and each topic's top words are more relevant compared to each other.  So we will use NMF with **TF-IDF vectorizer** for topic modeling."
   ]
  },
  {
   "cell_type": "code",
   "execution_count": 116,
   "metadata": {
    "ExecuteTime": {
     "end_time": "2020-02-28T05:07:05.015456Z",
     "start_time": "2020-02-28T05:07:05.002955Z"
    }
   },
   "outputs": [
    {
     "data": {
      "text/html": [
       "<div>\n",
       "<style scoped>\n",
       "    .dataframe tbody tr th:only-of-type {\n",
       "        vertical-align: middle;\n",
       "    }\n",
       "\n",
       "    .dataframe tbody tr th {\n",
       "        vertical-align: top;\n",
       "    }\n",
       "\n",
       "    .dataframe thead th {\n",
       "        text-align: right;\n",
       "    }\n",
       "</style>\n",
       "<table border=\"1\" class=\"dataframe\">\n",
       "  <thead>\n",
       "    <tr style=\"text-align: right;\">\n",
       "      <th></th>\n",
       "      <th>WaitTime</th>\n",
       "      <th>Tea</th>\n",
       "      <th>Queue</th>\n",
       "      <th>CupSize</th>\n",
       "      <th>IcedMilk</th>\n",
       "      <th>Food</th>\n",
       "      <th>Service</th>\n",
       "    </tr>\n",
       "    <tr>\n",
       "      <th>Review</th>\n",
       "      <th></th>\n",
       "      <th></th>\n",
       "      <th></th>\n",
       "      <th></th>\n",
       "      <th></th>\n",
       "      <th></th>\n",
       "      <th></th>\n",
       "    </tr>\n",
       "  </thead>\n",
       "  <tbody>\n",
       "    <tr>\n",
       "      <th>This place has been around for years! I remember when they first opened when I was in high school. The boba is delicious with multiple different options hehe. The name is pretty captivating and sure is an attention grabber. I'm glad this is only 4 blocks away from me</th>\n",
       "      <td>0.05163</td>\n",
       "      <td>0.00236</td>\n",
       "      <td>0.00000</td>\n",
       "      <td>0.00000</td>\n",
       "      <td>0.01685</td>\n",
       "      <td>0.00645</td>\n",
       "      <td>0.00000</td>\n",
       "    </tr>\n",
       "    <tr>\n",
       "      <th>This place is just okay. The layout of the shop is inconvenient because a line of 6 people already reaches out the door, and the area is narrow so it's not the greatest when you have people coming in and out. And they take anywhere from 5-20 minutes to make your drink. I come here if I absolutely crave boba but it's not that great. The last time I came here I got hazelnut milktea with chocolate pudding, but it tasted like a Tootsie roll. WtfThe matcha drinks are pretty good but they take a while to make. And as a tip, the drinks have perforated holes for the paper straws to go through so you don't have to keep stabbing the top with the straw hoping that it'll pierce through the plastic.</th>\n",
       "      <td>0.03644</td>\n",
       "      <td>0.01641</td>\n",
       "      <td>0.00831</td>\n",
       "      <td>0.00633</td>\n",
       "      <td>0.02607</td>\n",
       "      <td>0.00514</td>\n",
       "      <td>0.00168</td>\n",
       "    </tr>\n",
       "    <tr>\n",
       "      <th>I went here for the first time and got a D3 (caramel milk drink with pudding and boba). The place was packed with a bunch of high schoolers but the drinks came out fast. The lady at the register was pretty rude to the customers (she was nice to me though). The drink was good but it was too sweet for me. If I were to come back I would get the same thing but get it less sweet. This place isn't my go to boba shop in SF though.</th>\n",
       "      <td>0.01472</td>\n",
       "      <td>0.00000</td>\n",
       "      <td>0.00000</td>\n",
       "      <td>0.00000</td>\n",
       "      <td>0.10006</td>\n",
       "      <td>0.00000</td>\n",
       "      <td>0.05878</td>\n",
       "    </tr>\n",
       "    <tr>\n",
       "      <th>Okay in another world I would be giving a 5 star review bc I love this place but uhh yesterday I bought a good ol' D3 50% sweet (caramel milk drink with pudding and boba) for my mom and there was a chunk of styrofoam or something in it?????? Actually there were multiple chunks but she said she accidentally swallowed the smaller pieces LOL RIP Honestly imma still go back tho.. the pudding is too good but ya when she told me, I was shocked since this has never happened before and I was like what's the protocol?? Do I call purple cow and be like \"hello my mom did a little chokey chokey cuz u put plastic in our drink ahaaaaa can I get a refund?\" In the end I'm just writing this yelp review so do with this information what you will. No fatalities though so I'll still frequent this place bc that's who I am as a person and my parents are whatever about it and it's still their fave boba shop</th>\n",
       "      <td>0.03478</td>\n",
       "      <td>0.00000</td>\n",
       "      <td>0.00000</td>\n",
       "      <td>0.00304</td>\n",
       "      <td>0.07113</td>\n",
       "      <td>0.00381</td>\n",
       "      <td>0.02517</td>\n",
       "    </tr>\n",
       "    <tr>\n",
       "      <th>I loved their passion fruit green tea with coconut jelly and boba!! Perfect combo! I asked for 50% sweet and good thing I did because it was still sweet but just how I usually get it!</th>\n",
       "      <td>0.00000</td>\n",
       "      <td>0.09434</td>\n",
       "      <td>0.00049</td>\n",
       "      <td>0.00000</td>\n",
       "      <td>0.00524</td>\n",
       "      <td>0.00492</td>\n",
       "      <td>0.02056</td>\n",
       "    </tr>\n",
       "  </tbody>\n",
       "</table>\n",
       "</div>"
      ],
      "text/plain": [
       "                                                    WaitTime      Tea  \\\n",
       "Review                                                                  \n",
       "This place has been around for years! I remembe...   0.05163  0.00236   \n",
       "This place is just okay. The layout of the shop...   0.03644  0.01641   \n",
       "I went here for the first time and got a D3 (ca...   0.01472  0.00000   \n",
       "Okay in another world I would be giving a 5 sta...   0.03478  0.00000   \n",
       "I loved their passion fruit green tea with coco...   0.00000  0.09434   \n",
       "\n",
       "                                                      Queue  CupSize  \\\n",
       "Review                                                                 \n",
       "This place has been around for years! I remembe...  0.00000  0.00000   \n",
       "This place is just okay. The layout of the shop...  0.00831  0.00633   \n",
       "I went here for the first time and got a D3 (ca...  0.00000  0.00000   \n",
       "Okay in another world I would be giving a 5 sta...  0.00000  0.00304   \n",
       "I loved their passion fruit green tea with coco...  0.00049  0.00000   \n",
       "\n",
       "                                                    IcedMilk     Food  Service  \n",
       "Review                                                                          \n",
       "This place has been around for years! I remembe...   0.01685  0.00645  0.00000  \n",
       "This place is just okay. The layout of the shop...   0.02607  0.00514  0.00168  \n",
       "I went here for the first time and got a D3 (ca...   0.10006  0.00000  0.05878  \n",
       "Okay in another world I would be giving a 5 sta...   0.07113  0.00381  0.02517  \n",
       "I loved their passion fruit green tea with coco...   0.00524  0.00492  0.02056  "
      ]
     },
     "execution_count": 116,
     "metadata": {},
     "output_type": "execute_result"
    }
   ],
   "source": [
    "topic_weight = pd.DataFrame(doc_topic1.round(5),\n",
    "             index = df.Review,\n",
    "             columns = [\"WaitTime\",\"Tea\",'Queue','CupSize','IcedMilk','Food','Service'])\n",
    "topic_weight.head()"
   ]
  },
  {
   "cell_type": "code",
   "execution_count": 40,
   "metadata": {
    "ExecuteTime": {
     "end_time": "2020-02-28T00:08:56.910413Z",
     "start_time": "2020-02-28T00:08:56.905724Z"
    }
   },
   "outputs": [],
   "source": [
    "topic_weight = topic_weight.reset_index()"
   ]
  },
  {
   "cell_type": "code",
   "execution_count": 41,
   "metadata": {
    "ExecuteTime": {
     "end_time": "2020-02-28T00:08:57.732127Z",
     "start_time": "2020-02-28T00:08:57.726531Z"
    }
   },
   "outputs": [],
   "source": [
    "#add star rating and year column to topic_weight dataframe\n",
    "topic_df = pd.concat([topic_weight,df['Star_Rating'],df['Year']],axis = 1)"
   ]
  },
  {
   "cell_type": "code",
   "execution_count": 43,
   "metadata": {
    "ExecuteTime": {
     "end_time": "2020-02-28T00:09:30.044267Z",
     "start_time": "2020-02-28T00:09:30.034950Z"
    }
   },
   "outputs": [],
   "source": [
    "#Find the most dominant topic for each review based on their weight.\n",
    "topic_df['Dominant_Topic']=topic_df[['WaitTime','IcedMilk','Queue','Tea','Service','CupSize','Food']].idxmax(axis=1)"
   ]
  },
  {
   "cell_type": "code",
   "execution_count": 45,
   "metadata": {
    "ExecuteTime": {
     "end_time": "2020-02-28T00:10:20.224850Z",
     "start_time": "2020-02-28T00:10:20.221155Z"
    }
   },
   "outputs": [],
   "source": [
    "#create new column called sentiment based on the star rating\n",
    "topic_df['Sentiment']=topic_df['Star_Rating']"
   ]
  },
  {
   "cell_type": "code",
   "execution_count": 46,
   "metadata": {
    "ExecuteTime": {
     "end_time": "2020-02-28T00:10:20.928636Z",
     "start_time": "2020-02-28T00:10:20.919565Z"
    }
   },
   "outputs": [],
   "source": [
    "#bin the star rating into sentiment values (categorical).  5-4 is positive, 3 is neutral, 1-2 is negative\n",
    "topic_df['Sentiment'].replace([5], 'Positive', inplace = True)\n",
    "topic_df['Sentiment'].replace([4], 'Positive', inplace = True)\n",
    "topic_df['Sentiment'].replace([3], 'Neutral', inplace = True)\n",
    "topic_df['Sentiment'].replace([2], 'Negative', inplace = True)\n",
    "topic_df['Sentiment'].replace([1], 'Negative', inplace = True)"
   ]
  },
  {
   "cell_type": "code",
   "execution_count": 47,
   "metadata": {
    "ExecuteTime": {
     "end_time": "2020-02-28T00:10:21.322684Z",
     "start_time": "2020-02-28T00:10:21.307866Z"
    }
   },
   "outputs": [
    {
     "data": {
      "text/html": [
       "<div>\n",
       "<style scoped>\n",
       "    .dataframe tbody tr th:only-of-type {\n",
       "        vertical-align: middle;\n",
       "    }\n",
       "\n",
       "    .dataframe tbody tr th {\n",
       "        vertical-align: top;\n",
       "    }\n",
       "\n",
       "    .dataframe thead th {\n",
       "        text-align: right;\n",
       "    }\n",
       "</style>\n",
       "<table border=\"1\" class=\"dataframe\">\n",
       "  <thead>\n",
       "    <tr style=\"text-align: right;\">\n",
       "      <th></th>\n",
       "      <th>Review</th>\n",
       "      <th>WaitTime</th>\n",
       "      <th>Tea</th>\n",
       "      <th>Queue</th>\n",
       "      <th>CupSize</th>\n",
       "      <th>IcedMilk</th>\n",
       "      <th>Food</th>\n",
       "      <th>Service</th>\n",
       "      <th>Star_Rating</th>\n",
       "      <th>Year</th>\n",
       "      <th>Dominant_Topic</th>\n",
       "      <th>Sentiment</th>\n",
       "    </tr>\n",
       "  </thead>\n",
       "  <tbody>\n",
       "    <tr>\n",
       "      <th>0</th>\n",
       "      <td>This place has been around for years! I rememb...</td>\n",
       "      <td>0.05163</td>\n",
       "      <td>0.00236</td>\n",
       "      <td>0.00000</td>\n",
       "      <td>0.00000</td>\n",
       "      <td>0.01685</td>\n",
       "      <td>0.00645</td>\n",
       "      <td>0.00000</td>\n",
       "      <td>5</td>\n",
       "      <td>2019-10-17</td>\n",
       "      <td>WaitTime</td>\n",
       "      <td>Positive</td>\n",
       "    </tr>\n",
       "    <tr>\n",
       "      <th>1</th>\n",
       "      <td>This place is just okay. The layout of the sho...</td>\n",
       "      <td>0.03644</td>\n",
       "      <td>0.01641</td>\n",
       "      <td>0.00831</td>\n",
       "      <td>0.00633</td>\n",
       "      <td>0.02607</td>\n",
       "      <td>0.00514</td>\n",
       "      <td>0.00168</td>\n",
       "      <td>3</td>\n",
       "      <td>2020-02-04</td>\n",
       "      <td>WaitTime</td>\n",
       "      <td>Neutral</td>\n",
       "    </tr>\n",
       "    <tr>\n",
       "      <th>2</th>\n",
       "      <td>I went here for the first time and got a D3 (c...</td>\n",
       "      <td>0.01472</td>\n",
       "      <td>0.00000</td>\n",
       "      <td>0.00000</td>\n",
       "      <td>0.00000</td>\n",
       "      <td>0.10006</td>\n",
       "      <td>0.00000</td>\n",
       "      <td>0.05878</td>\n",
       "      <td>3</td>\n",
       "      <td>2020-01-28</td>\n",
       "      <td>IcedMilk</td>\n",
       "      <td>Neutral</td>\n",
       "    </tr>\n",
       "    <tr>\n",
       "      <th>3</th>\n",
       "      <td>Okay in another world I would be giving a 5 st...</td>\n",
       "      <td>0.03478</td>\n",
       "      <td>0.00000</td>\n",
       "      <td>0.00000</td>\n",
       "      <td>0.00304</td>\n",
       "      <td>0.07113</td>\n",
       "      <td>0.00381</td>\n",
       "      <td>0.02517</td>\n",
       "      <td>1</td>\n",
       "      <td>2020-01-01</td>\n",
       "      <td>IcedMilk</td>\n",
       "      <td>Negative</td>\n",
       "    </tr>\n",
       "    <tr>\n",
       "      <th>4</th>\n",
       "      <td>I loved their passion fruit green tea with coc...</td>\n",
       "      <td>0.00000</td>\n",
       "      <td>0.09434</td>\n",
       "      <td>0.00049</td>\n",
       "      <td>0.00000</td>\n",
       "      <td>0.00524</td>\n",
       "      <td>0.00492</td>\n",
       "      <td>0.02056</td>\n",
       "      <td>5</td>\n",
       "      <td>2020-02-24</td>\n",
       "      <td>Tea</td>\n",
       "      <td>Positive</td>\n",
       "    </tr>\n",
       "  </tbody>\n",
       "</table>\n",
       "</div>"
      ],
      "text/plain": [
       "                                              Review  WaitTime      Tea  \\\n",
       "0  This place has been around for years! I rememb...   0.05163  0.00236   \n",
       "1  This place is just okay. The layout of the sho...   0.03644  0.01641   \n",
       "2  I went here for the first time and got a D3 (c...   0.01472  0.00000   \n",
       "3  Okay in another world I would be giving a 5 st...   0.03478  0.00000   \n",
       "4  I loved their passion fruit green tea with coc...   0.00000  0.09434   \n",
       "\n",
       "     Queue  CupSize  IcedMilk     Food  Service  Star_Rating       Year  \\\n",
       "0  0.00000  0.00000   0.01685  0.00645  0.00000            5 2019-10-17   \n",
       "1  0.00831  0.00633   0.02607  0.00514  0.00168            3 2020-02-04   \n",
       "2  0.00000  0.00000   0.10006  0.00000  0.05878            3 2020-01-28   \n",
       "3  0.00000  0.00304   0.07113  0.00381  0.02517            1 2020-01-01   \n",
       "4  0.00049  0.00000   0.00524  0.00492  0.02056            5 2020-02-24   \n",
       "\n",
       "  Dominant_Topic Sentiment  \n",
       "0       WaitTime  Positive  \n",
       "1       WaitTime   Neutral  \n",
       "2       IcedMilk   Neutral  \n",
       "3       IcedMilk  Negative  \n",
       "4            Tea  Positive  "
      ]
     },
     "execution_count": 47,
     "metadata": {},
     "output_type": "execute_result"
    }
   ],
   "source": [
    "topic_df.head()"
   ]
  },
  {
   "cell_type": "code",
   "execution_count": 54,
   "metadata": {
    "ExecuteTime": {
     "end_time": "2020-02-28T00:11:22.203246Z",
     "start_time": "2020-02-28T00:11:22.196154Z"
    }
   },
   "outputs": [],
   "source": [
    "topic_sentiment_count = pd.DataFrame(topic_df.groupby('Dominant_Topic')['Sentiment'].value_counts())"
   ]
  },
  {
   "cell_type": "code",
   "execution_count": 55,
   "metadata": {
    "ExecuteTime": {
     "end_time": "2020-02-28T00:11:22.980699Z",
     "start_time": "2020-02-28T00:11:22.976194Z"
    },
    "scrolled": true
   },
   "outputs": [],
   "source": [
    "topic_sentiment_count.rename(columns={'Sentiment':'count'},inplace=True)"
   ]
  },
  {
   "cell_type": "code",
   "execution_count": 56,
   "metadata": {
    "ExecuteTime": {
     "end_time": "2020-02-28T00:11:23.489809Z",
     "start_time": "2020-02-28T00:11:23.481341Z"
    }
   },
   "outputs": [
    {
     "data": {
      "text/html": [
       "<div>\n",
       "<style scoped>\n",
       "    .dataframe tbody tr th:only-of-type {\n",
       "        vertical-align: middle;\n",
       "    }\n",
       "\n",
       "    .dataframe tbody tr th {\n",
       "        vertical-align: top;\n",
       "    }\n",
       "\n",
       "    .dataframe thead th {\n",
       "        text-align: right;\n",
       "    }\n",
       "</style>\n",
       "<table border=\"1\" class=\"dataframe\">\n",
       "  <thead>\n",
       "    <tr style=\"text-align: right;\">\n",
       "      <th></th>\n",
       "      <th></th>\n",
       "      <th>count</th>\n",
       "    </tr>\n",
       "    <tr>\n",
       "      <th>Dominant_Topic</th>\n",
       "      <th>Sentiment</th>\n",
       "      <th></th>\n",
       "    </tr>\n",
       "  </thead>\n",
       "  <tbody>\n",
       "    <tr>\n",
       "      <th rowspan=\"3\" valign=\"top\">CupSize</th>\n",
       "      <th>Neutral</th>\n",
       "      <td>81</td>\n",
       "    </tr>\n",
       "    <tr>\n",
       "      <th>Positive</th>\n",
       "      <td>69</td>\n",
       "    </tr>\n",
       "    <tr>\n",
       "      <th>Negative</th>\n",
       "      <td>27</td>\n",
       "    </tr>\n",
       "    <tr>\n",
       "      <th rowspan=\"3\" valign=\"top\">Food</th>\n",
       "      <th>Positive</th>\n",
       "      <td>147</td>\n",
       "    </tr>\n",
       "    <tr>\n",
       "      <th>Neutral</th>\n",
       "      <td>35</td>\n",
       "    </tr>\n",
       "    <tr>\n",
       "      <th>Negative</th>\n",
       "      <td>16</td>\n",
       "    </tr>\n",
       "    <tr>\n",
       "      <th rowspan=\"3\" valign=\"top\">IcedMilk</th>\n",
       "      <th>Positive</th>\n",
       "      <td>236</td>\n",
       "    </tr>\n",
       "    <tr>\n",
       "      <th>Neutral</th>\n",
       "      <td>71</td>\n",
       "    </tr>\n",
       "    <tr>\n",
       "      <th>Negative</th>\n",
       "      <td>31</td>\n",
       "    </tr>\n",
       "    <tr>\n",
       "      <th rowspan=\"3\" valign=\"top\">Queue</th>\n",
       "      <th>Positive</th>\n",
       "      <td>185</td>\n",
       "    </tr>\n",
       "    <tr>\n",
       "      <th>Neutral</th>\n",
       "      <td>106</td>\n",
       "    </tr>\n",
       "    <tr>\n",
       "      <th>Negative</th>\n",
       "      <td>79</td>\n",
       "    </tr>\n",
       "    <tr>\n",
       "      <th rowspan=\"3\" valign=\"top\">Service</th>\n",
       "      <th>Negative</th>\n",
       "      <td>116</td>\n",
       "    </tr>\n",
       "    <tr>\n",
       "      <th>Positive</th>\n",
       "      <td>46</td>\n",
       "    </tr>\n",
       "    <tr>\n",
       "      <th>Neutral</th>\n",
       "      <td>32</td>\n",
       "    </tr>\n",
       "    <tr>\n",
       "      <th rowspan=\"3\" valign=\"top\">Tea</th>\n",
       "      <th>Positive</th>\n",
       "      <td>288</td>\n",
       "    </tr>\n",
       "    <tr>\n",
       "      <th>Neutral</th>\n",
       "      <td>139</td>\n",
       "    </tr>\n",
       "    <tr>\n",
       "      <th>Negative</th>\n",
       "      <td>78</td>\n",
       "    </tr>\n",
       "    <tr>\n",
       "      <th rowspan=\"3\" valign=\"top\">WaitTime</th>\n",
       "      <th>Negative</th>\n",
       "      <td>201</td>\n",
       "    </tr>\n",
       "    <tr>\n",
       "      <th>Neutral</th>\n",
       "      <td>189</td>\n",
       "    </tr>\n",
       "    <tr>\n",
       "      <th>Positive</th>\n",
       "      <td>175</td>\n",
       "    </tr>\n",
       "  </tbody>\n",
       "</table>\n",
       "</div>"
      ],
      "text/plain": [
       "                          count\n",
       "Dominant_Topic Sentiment       \n",
       "CupSize        Neutral       81\n",
       "               Positive      69\n",
       "               Negative      27\n",
       "Food           Positive     147\n",
       "               Neutral       35\n",
       "               Negative      16\n",
       "IcedMilk       Positive     236\n",
       "               Neutral       71\n",
       "               Negative      31\n",
       "Queue          Positive     185\n",
       "               Neutral      106\n",
       "               Negative      79\n",
       "Service        Negative     116\n",
       "               Positive      46\n",
       "               Neutral       32\n",
       "Tea            Positive     288\n",
       "               Neutral      139\n",
       "               Negative      78\n",
       "WaitTime       Negative     201\n",
       "               Neutral      189\n",
       "               Positive     175"
      ]
     },
     "execution_count": 56,
     "metadata": {},
     "output_type": "execute_result"
    }
   ],
   "source": [
    "topic_sentiment_count"
   ]
  },
  {
   "cell_type": "code",
   "execution_count": 57,
   "metadata": {
    "ExecuteTime": {
     "end_time": "2020-02-28T00:11:26.130909Z",
     "start_time": "2020-02-28T00:11:26.125508Z"
    }
   },
   "outputs": [],
   "source": [
    "topic_sentiment_count.reset_index(inplace=True)"
   ]
  },
  {
   "cell_type": "code",
   "execution_count": 62,
   "metadata": {
    "ExecuteTime": {
     "end_time": "2020-02-28T00:12:17.782632Z",
     "start_time": "2020-02-28T00:12:17.774842Z"
    },
    "scrolled": true
   },
   "outputs": [
    {
     "data": {
      "text/plain": [
       "Dominant_Topic\n",
       "CupSize     177\n",
       "Food        198\n",
       "IcedMilk    338\n",
       "Queue       370\n",
       "Service     194\n",
       "Tea         505\n",
       "WaitTime    565\n",
       "Name: Sentiment, dtype: int64"
      ]
     },
     "execution_count": 62,
     "metadata": {},
     "output_type": "execute_result"
    }
   ],
   "source": [
    "topic_df.groupby('Dominant_Topic')['Sentiment'].count()"
   ]
  },
  {
   "cell_type": "code",
   "execution_count": 119,
   "metadata": {
    "ExecuteTime": {
     "end_time": "2020-02-28T05:10:53.353770Z",
     "start_time": "2020-02-28T05:10:53.346963Z"
    },
    "scrolled": false
   },
   "outputs": [
    {
     "data": {
      "text/plain": [
       "Sentiment\n",
       "Negative     548\n",
       "Neutral      653\n",
       "Positive    1146\n",
       "Name: Star_Rating, dtype: int64"
      ]
     },
     "execution_count": 119,
     "metadata": {},
     "output_type": "execute_result"
    }
   ],
   "source": [
    "topic_df.groupby('Sentiment')['Star_Rating'].count()"
   ]
  },
  {
   "cell_type": "code",
   "execution_count": 145,
   "metadata": {
    "ExecuteTime": {
     "end_time": "2020-02-28T05:53:52.361584Z",
     "start_time": "2020-02-28T05:53:52.338243Z"
    }
   },
   "outputs": [],
   "source": [
    "topic_df.to_pickle('topic_data.pkl')"
   ]
  },
  {
   "cell_type": "code",
   "execution_count": 59,
   "metadata": {
    "ExecuteTime": {
     "end_time": "2020-02-28T00:11:55.836796Z",
     "start_time": "2020-02-28T00:11:55.587953Z"
    },
    "scrolled": true
   },
   "outputs": [
    {
     "data": {
      "image/png": "[encoded data removed]",
      "text/plain": [
       "<Figure size 1080x576 with 1 Axes>"
      ]
     },
     "metadata": {},
     "output_type": "display_data"
    }
   ],
   "source": [
    "#bar plot for topic distribution\n",
    "plt.figure(figsize=(15,8))\n",
    "sns.set(font_scale = 1.5)\n",
    "sns.countplot(x='Dominant_Topic', data = topic_df, palette='hls', \n",
    "              order = topic_df['Dominant_Topic'].value_counts().index);\n",
    "plt.xlabel('Topics', size=20)\n",
    "plt.ylabel('Count', size = 20)\n",
    "plt.title('Topics Count', size = 20)\n",
    "plt.savefig('topic_hist.jpg')\n",
    "plt.show()"
   ]
  },
  {
   "cell_type": "code",
   "execution_count": 146,
   "metadata": {
    "ExecuteTime": {
     "end_time": "2020-02-28T06:02:37.119476Z",
     "start_time": "2020-02-28T06:02:36.725956Z"
    }
   },
   "outputs": [
    {
     "data": {
      "image/png": "[encoded data removed]",
      "text/plain": [
       "<Figure size 1080x576 with 1 Axes>"
      ]
     },
     "metadata": {
      "needs_background": "light"
     },
     "output_type": "display_data"
    }
   ],
   "source": [
    "#bar plot for sentiment on each topic\n",
    "plt.figure(figsize=(15,8))\n",
    "sns.barplot(x='Dominant_Topic', y='count', hue='Sentiment', data=topic_sentiment_count,palette=['Gray', \"C2\", \"Red\"],\n",
    "           order = topic_sentiment_count['Dominant_Topic'].value_counts().index)\n",
    "\n",
    "plt.xlabel('Topics', size=20)\n",
    "plt.ylabel('Count', size = 20)\n",
    "plt.title('Sentiment on Topics', size = 20)\n",
    "plt.savefig('topic_sentiment.jpg')\n",
    "plt.show()"
   ]
  },
  {
   "cell_type": "markdown",
   "metadata": {},
   "source": [
    "#### The following codes are only for exploratory purposes and the results are not used in this project."
   ]
  },
  {
   "cell_type": "markdown",
   "metadata": {},
   "source": [
    "## TFIDF Bigram vectorizer"
   ]
  },
  {
   "cell_type": "code",
   "execution_count": 75,
   "metadata": {
    "ExecuteTime": {
     "end_time": "2020-02-28T00:14:22.562483Z",
     "start_time": "2020-02-28T00:14:22.172816Z"
    }
   },
   "outputs": [],
   "source": [
    "tfidfbi = TfidfVectorizer(ngram_range=(2,2), stop_words = stopwords)\n",
    "data_tfidfbi = tfidfbi.fit_transform(data_clean.lem)"
   ]
  },
  {
   "cell_type": "code",
   "execution_count": 76,
   "metadata": {
    "ExecuteTime": {
     "end_time": "2020-02-28T00:14:23.662283Z",
     "start_time": "2020-02-28T00:14:23.035443Z"
    }
   },
   "outputs": [],
   "source": [
    "nmf_model_bi = NMF(7)\n",
    "doc_topicbi = nmf_model_bi.fit_transform(data_tfidfbi)"
   ]
  },
  {
   "cell_type": "code",
   "execution_count": 77,
   "metadata": {
    "ExecuteTime": {
     "end_time": "2020-02-28T00:14:23.852450Z",
     "start_time": "2020-02-28T00:14:23.778807Z"
    }
   },
   "outputs": [],
   "source": [
    "topic_word_bi = pd.DataFrame(nmf_model_bi.components_.round(2),\n",
    "             index = [\"component_1\",\"component_2\",\"component_3\",\"component_4\",\n",
    "                      \"component_5\",\"component_6\",\"component_7\"],\n",
    "             columns = tfidfbi.get_feature_names())"
   ]
  },
  {
   "cell_type": "code",
   "execution_count": 78,
   "metadata": {
    "ExecuteTime": {
     "end_time": "2020-02-28T00:14:25.144797Z",
     "start_time": "2020-02-28T00:14:25.041477Z"
    }
   },
   "outputs": [
    {
     "name": "stdout",
     "output_type": "stream",
     "text": [
      "\n",
      "Topic  0\n",
      "milk tea, tea boba, green milk, oolong milk, black milk, honey milk, regular milk\n",
      "\n",
      "Topic  1\n",
      "iced milk, pudding boba, milk caramel, caramel pudding, milk pudding, boba pudding, milk boba\n",
      "\n",
      "Topic  2\n",
      "green tea, milk green, tea boba, matcha milk, peach green, mango green, matcha green\n",
      "\n",
      "Topic  3\n",
      "long line, worth wait, long wait, line long, wait line, always long, wait long\n",
      "\n",
      "Topic  4\n",
      "ice milk, milk boba, love ice, boba glass, milk pudding, like ice, boba pudding\n",
      "\n",
      "Topic  5\n",
      "cup holder, fit cup, dont fit, car cup, doesnt fit, fit car, cup dont\n",
      "\n",
      "Topic  6\n",
      "bubble tea, best bubble, tea ever, line long, really really, tea ive, tea although\n"
     ]
    }
   ],
   "source": [
    "display_topics(nmf_model_bi, tfidfbi.get_feature_names(), 7)"
   ]
  },
  {
   "cell_type": "markdown",
   "metadata": {},
   "source": [
    "TF-IDF with bigram: the topics make sense but again there are multiple topics just talking about tea and drinks."
   ]
  },
  {
   "cell_type": "markdown",
   "metadata": {},
   "source": [
    "## Exploring Sentiment Analysis using TextBlob"
   ]
  },
  {
   "cell_type": "code",
   "execution_count": 80,
   "metadata": {
    "ExecuteTime": {
     "end_time": "2020-02-28T04:00:30.418924Z",
     "start_time": "2020-02-28T04:00:30.415839Z"
    }
   },
   "outputs": [],
   "source": [
    "from textblob import TextBlob"
   ]
  },
  {
   "cell_type": "code",
   "execution_count": 81,
   "metadata": {
    "ExecuteTime": {
     "end_time": "2020-02-28T04:00:30.823931Z",
     "start_time": "2020-02-28T04:00:30.812179Z"
    }
   },
   "outputs": [],
   "source": [
    "pol = lambda x:TextBlob(x).sentiment.polarity\n",
    "sub = lambda x:TextBlob(x).sentiment.subjectivity"
   ]
  },
  {
   "cell_type": "code",
   "execution_count": 82,
   "metadata": {
    "ExecuteTime": {
     "end_time": "2020-02-28T04:01:34.902277Z",
     "start_time": "2020-02-28T04:01:31.610743Z"
    }
   },
   "outputs": [],
   "source": [
    "df['polarity'] = df['Review'].apply(pol)\n",
    "df['subjectivity']=df['Review'].apply(sub)"
   ]
  },
  {
   "cell_type": "code",
   "execution_count": 83,
   "metadata": {
    "ExecuteTime": {
     "end_time": "2020-02-28T04:01:36.757548Z",
     "start_time": "2020-02-28T04:01:36.735729Z"
    }
   },
   "outputs": [
    {
     "data": {
      "text/html": [
       "<div>\n",
       "<style scoped>\n",
       "    .dataframe tbody tr th:only-of-type {\n",
       "        vertical-align: middle;\n",
       "    }\n",
       "\n",
       "    .dataframe tbody tr th {\n",
       "        vertical-align: top;\n",
       "    }\n",
       "\n",
       "    .dataframe thead th {\n",
       "        text-align: right;\n",
       "    }\n",
       "</style>\n",
       "<table border=\"1\" class=\"dataframe\">\n",
       "  <thead>\n",
       "    <tr style=\"text-align: right;\">\n",
       "      <th></th>\n",
       "      <th>Date</th>\n",
       "      <th>Star_Rating</th>\n",
       "      <th>Review</th>\n",
       "      <th>Year</th>\n",
       "      <th>review length</th>\n",
       "      <th>polarity</th>\n",
       "      <th>subjectivity</th>\n",
       "    </tr>\n",
       "  </thead>\n",
       "  <tbody>\n",
       "    <tr>\n",
       "      <th>0</th>\n",
       "      <td>10/17/2019</td>\n",
       "      <td>5</td>\n",
       "      <td>This place has been around for years! I rememb...</td>\n",
       "      <td>2019-10-17</td>\n",
       "      <td>267</td>\n",
       "      <td>0.316000</td>\n",
       "      <td>0.736222</td>\n",
       "    </tr>\n",
       "    <tr>\n",
       "      <th>1</th>\n",
       "      <td>2/4/2020</td>\n",
       "      <td>3</td>\n",
       "      <td>This place is just okay. The layout of the sho...</td>\n",
       "      <td>2020-02-04</td>\n",
       "      <td>695</td>\n",
       "      <td>0.231818</td>\n",
       "      <td>0.683333</td>\n",
       "    </tr>\n",
       "    <tr>\n",
       "      <th>2</th>\n",
       "      <td>1/28/2020</td>\n",
       "      <td>3</td>\n",
       "      <td>I went here for the first time and got a D3 (c...</td>\n",
       "      <td>2020-01-28</td>\n",
       "      <td>427</td>\n",
       "      <td>0.199444</td>\n",
       "      <td>0.513750</td>\n",
       "    </tr>\n",
       "    <tr>\n",
       "      <th>3</th>\n",
       "      <td>1/1/2020</td>\n",
       "      <td>1</td>\n",
       "      <td>Okay in another world I would be giving a 5 st...</td>\n",
       "      <td>2020-01-01</td>\n",
       "      <td>896</td>\n",
       "      <td>0.215278</td>\n",
       "      <td>0.461111</td>\n",
       "    </tr>\n",
       "    <tr>\n",
       "      <th>4</th>\n",
       "      <td>2/24/2020</td>\n",
       "      <td>5</td>\n",
       "      <td>I loved their passion fruit green tea with coc...</td>\n",
       "      <td>2020-02-24</td>\n",
       "      <td>183</td>\n",
       "      <td>0.353571</td>\n",
       "      <td>0.607143</td>\n",
       "    </tr>\n",
       "  </tbody>\n",
       "</table>\n",
       "</div>"
      ],
      "text/plain": [
       "         Date  Star_Rating                                             Review  \\\n",
       "0  10/17/2019            5  This place has been around for years! I rememb...   \n",
       "1    2/4/2020            3  This place is just okay. The layout of the sho...   \n",
       "2   1/28/2020            3  I went here for the first time and got a D3 (c...   \n",
       "3    1/1/2020            1  Okay in another world I would be giving a 5 st...   \n",
       "4   2/24/2020            5  I loved their passion fruit green tea with coc...   \n",
       "\n",
       "        Year  review length  polarity  subjectivity  \n",
       "0 2019-10-17            267  0.316000      0.736222  \n",
       "1 2020-02-04            695  0.231818      0.683333  \n",
       "2 2020-01-28            427  0.199444      0.513750  \n",
       "3 2020-01-01            896  0.215278      0.461111  \n",
       "4 2020-02-24            183  0.353571      0.607143  "
      ]
     },
     "execution_count": 83,
     "metadata": {},
     "output_type": "execute_result"
    }
   ],
   "source": [
    "df.head()"
   ]
  },
  {
   "cell_type": "code",
   "execution_count": 100,
   "metadata": {
    "ExecuteTime": {
     "end_time": "2020-02-28T04:16:25.257182Z",
     "start_time": "2020-02-28T04:16:18.152367Z"
    }
   },
   "outputs": [
    {
     "data": {
      "image/png": "[encoded data removed]",
      "text/plain": [
       "<Figure size 720x576 with 1 Axes>"
      ]
     },
     "metadata": {},
     "output_type": "display_data"
    }
   ],
   "source": [
    "plt.rcParams['figure.figsize'] = [10, 8]\n",
    "\n",
    "for index, Review in enumerate(df.index):\n",
    "    x = df.polarity.loc[Review]\n",
    "    y = df.subjectivity.loc[Review]\n",
    "    plt.scatter(x, y, color='blue')\n",
    "    plt.xlim(-1.1, 1.1) \n",
    "    \n",
    "plt.title('Sentiment Analysis on Reviews (TextBlob)', fontsize=20)\n",
    "plt.axvline(x=0, color = 'red', linestyle = '--')\n",
    "plt.xlabel('<-- Negative -------- Positive -->', fontsize=15)\n",
    "plt.ylabel('<-- Facts -------- Opinions -->', fontsize=15)\n",
    "plt.savefig('textblob_sentiment.jpg')\n",
    "plt.show()"
   ]
  },
  {
   "cell_type": "markdown",
   "metadata": {
    "ExecuteTime": {
     "end_time": "2020-02-28T05:11:57.820537Z",
     "start_time": "2020-02-28T05:11:57.818160Z"
    }
   },
   "source": [
    "**According to TextBlob, there are way more positive reviews than negative and it does not agree with the actual star rating of the reviews.**"
   ]
  },
  {
   "cell_type": "code",
   "execution_count": null,
   "metadata": {},
   "outputs": [],
   "source": []
  }
 ],
 "metadata": {
  "kernelspec": {
   "display_name": "Python 3",
   "language": "python",
   "name": "python3"
  },
  "language_info": {
   "codemirror_mode": {
    "name": "ipython",
    "version": 3
   },
   "file_extension": ".py",
   "mimetype": "text/x-python",
   "name": "python",
   "nbconvert_exporter": "python",
   "pygments_lexer": "ipython3",
   "version": "3.7.4"
  }
 },
 "nbformat": 4,
 "nbformat_minor": 4
}
