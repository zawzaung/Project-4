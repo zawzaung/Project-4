{
 "cells": [
  {
   "cell_type": "markdown",
   "metadata": {},
   "source": [
    "## Sentiment Analysis using Vader"
   ]
  },
  {
   "cell_type": "code",
   "execution_count": 12,
   "metadata": {
    "ExecuteTime": {
     "end_time": "2020-02-28T05:40:43.662972Z",
     "start_time": "2020-02-28T05:40:43.642948Z"
    }
   },
   "outputs": [],
   "source": [
    "from vaderSentiment.vaderSentiment import SentimentIntensityAnalyzer\n",
    "import pandas as pd\n",
    "import numpy as np\n",
    "analyser = SentimentIntensityAnalyzer()\n",
    "\n"
   ]
  },
  {
   "cell_type": "code",
   "execution_count": 32,
   "metadata": {
    "ExecuteTime": {
     "end_time": "2020-02-28T05:44:38.928573Z",
     "start_time": "2020-02-28T05:44:38.925976Z"
    }
   },
   "outputs": [],
   "source": [
    "def sentiment_analyzer_scores(sentence):\n",
    "    score = analyser.polarity_scores(sentence)\n",
    "    return score.get('compound')"
   ]
  },
  {
   "cell_type": "code",
   "execution_count": 14,
   "metadata": {
    "ExecuteTime": {
     "end_time": "2020-02-28T05:40:44.907179Z",
     "start_time": "2020-02-28T05:40:44.894029Z"
    }
   },
   "outputs": [],
   "source": [
    "df = pd.read_pickle('data_clean.pkl')"
   ]
  },
  {
   "cell_type": "code",
   "execution_count": 15,
   "metadata": {
    "ExecuteTime": {
     "end_time": "2020-02-28T05:40:45.518207Z",
     "start_time": "2020-02-28T05:40:45.506116Z"
    }
   },
   "outputs": [],
   "source": [
    "df1= pd.read_pickle('date_rating_review_PurpleKow.pickle')"
   ]
  },
  {
   "cell_type": "code",
   "execution_count": 16,
   "metadata": {
    "ExecuteTime": {
     "end_time": "2020-02-28T05:40:46.392311Z",
     "start_time": "2020-02-28T05:40:46.382758Z"
    }
   },
   "outputs": [
    {
     "data": {
      "text/html": [
       "<div>\n",
       "<style scoped>\n",
       "    .dataframe tbody tr th:only-of-type {\n",
       "        vertical-align: middle;\n",
       "    }\n",
       "\n",
       "    .dataframe tbody tr th {\n",
       "        vertical-align: top;\n",
       "    }\n",
       "\n",
       "    .dataframe thead th {\n",
       "        text-align: right;\n",
       "    }\n",
       "</style>\n",
       "<table border=\"1\" class=\"dataframe\">\n",
       "  <thead>\n",
       "    <tr style=\"text-align: right;\">\n",
       "      <th></th>\n",
       "      <th>Date</th>\n",
       "      <th>Star_Rating</th>\n",
       "      <th>Review</th>\n",
       "    </tr>\n",
       "  </thead>\n",
       "  <tbody>\n",
       "    <tr>\n",
       "      <th>649</th>\n",
       "      <td>6/13/2013</td>\n",
       "      <td>3</td>\n",
       "      <td>I don't know what's all involved in making a m...</td>\n",
       "    </tr>\n",
       "    <tr>\n",
       "      <th>1570</th>\n",
       "      <td>7/27/2014</td>\n",
       "      <td>3</td>\n",
       "      <td>I took a sip and it was heavenly. I took a few...</td>\n",
       "    </tr>\n",
       "    <tr>\n",
       "      <th>2096</th>\n",
       "      <td>3/23/2012</td>\n",
       "      <td>1</td>\n",
       "      <td>People in sf stop coming here the line is long...</td>\n",
       "    </tr>\n",
       "    <tr>\n",
       "      <th>296</th>\n",
       "      <td>1/4/2016</td>\n",
       "      <td>4</td>\n",
       "      <td>PurpleKow is amazing. I've been here twice and...</td>\n",
       "    </tr>\n",
       "    <tr>\n",
       "      <th>160</th>\n",
       "      <td>3/8/2017</td>\n",
       "      <td>3</td>\n",
       "      <td>For those who don't like super sweet drinks......</td>\n",
       "    </tr>\n",
       "    <tr>\n",
       "      <th>743</th>\n",
       "      <td>3/19/2016</td>\n",
       "      <td>5</td>\n",
       "      <td>I truly cannot fight over purple kow's milk te...</td>\n",
       "    </tr>\n",
       "    <tr>\n",
       "      <th>1213</th>\n",
       "      <td>4/23/2013</td>\n",
       "      <td>2</td>\n",
       "      <td>This place is weird. On an early Friday evenin...</td>\n",
       "    </tr>\n",
       "    <tr>\n",
       "      <th>1144</th>\n",
       "      <td>7/31/2013</td>\n",
       "      <td>3</td>\n",
       "      <td>The only drink I like here is that Creamy Frui...</td>\n",
       "    </tr>\n",
       "    <tr>\n",
       "      <th>1587</th>\n",
       "      <td>3/1/2012</td>\n",
       "      <td>3</td>\n",
       "      <td>What is up with this ridiculously long line?! ...</td>\n",
       "    </tr>\n",
       "    <tr>\n",
       "      <th>1838</th>\n",
       "      <td>2/12/2014</td>\n",
       "      <td>5</td>\n",
       "      <td>Seriously when I crave boba I crave purple kow...</td>\n",
       "    </tr>\n",
       "  </tbody>\n",
       "</table>\n",
       "</div>"
      ],
      "text/plain": [
       "           Date  Star_Rating  \\\n",
       "649   6/13/2013            3   \n",
       "1570  7/27/2014            3   \n",
       "2096  3/23/2012            1   \n",
       "296    1/4/2016            4   \n",
       "160    3/8/2017            3   \n",
       "743   3/19/2016            5   \n",
       "1213  4/23/2013            2   \n",
       "1144  7/31/2013            3   \n",
       "1587   3/1/2012            3   \n",
       "1838  2/12/2014            5   \n",
       "\n",
       "                                                 Review  \n",
       "649   I don't know what's all involved in making a m...  \n",
       "1570  I took a sip and it was heavenly. I took a few...  \n",
       "2096  People in sf stop coming here the line is long...  \n",
       "296   PurpleKow is amazing. I've been here twice and...  \n",
       "160   For those who don't like super sweet drinks......  \n",
       "743   I truly cannot fight over purple kow's milk te...  \n",
       "1213  This place is weird. On an early Friday evenin...  \n",
       "1144  The only drink I like here is that Creamy Frui...  \n",
       "1587  What is up with this ridiculously long line?! ...  \n",
       "1838  Seriously when I crave boba I crave purple kow...  "
      ]
     },
     "execution_count": 16,
     "metadata": {},
     "output_type": "execute_result"
    }
   ],
   "source": [
    "df1.sample(10)"
   ]
  },
  {
   "cell_type": "code",
   "execution_count": 33,
   "metadata": {
    "ExecuteTime": {
     "end_time": "2020-02-28T05:44:48.193101Z",
     "start_time": "2020-02-28T05:44:43.127538Z"
    }
   },
   "outputs": [],
   "source": [
    "sentiment= lambda x: sentiment_analyzer_scores(x)\n",
    "df1['Sentiment'] = df1.Review.apply(sentiment);"
   ]
  },
  {
   "cell_type": "code",
   "execution_count": 34,
   "metadata": {
    "ExecuteTime": {
     "end_time": "2020-02-28T05:44:49.216182Z",
     "start_time": "2020-02-28T05:44:49.208542Z"
    }
   },
   "outputs": [
    {
     "data": {
      "text/html": [
       "<div>\n",
       "<style scoped>\n",
       "    .dataframe tbody tr th:only-of-type {\n",
       "        vertical-align: middle;\n",
       "    }\n",
       "\n",
       "    .dataframe tbody tr th {\n",
       "        vertical-align: top;\n",
       "    }\n",
       "\n",
       "    .dataframe thead th {\n",
       "        text-align: right;\n",
       "    }\n",
       "</style>\n",
       "<table border=\"1\" class=\"dataframe\">\n",
       "  <thead>\n",
       "    <tr style=\"text-align: right;\">\n",
       "      <th></th>\n",
       "      <th>Date</th>\n",
       "      <th>Star_Rating</th>\n",
       "      <th>Review</th>\n",
       "      <th>Sentiment</th>\n",
       "    </tr>\n",
       "  </thead>\n",
       "  <tbody>\n",
       "    <tr>\n",
       "      <th>0</th>\n",
       "      <td>10/17/2019</td>\n",
       "      <td>5</td>\n",
       "      <td>This place has been around for years! I rememb...</td>\n",
       "      <td>0.8908</td>\n",
       "    </tr>\n",
       "    <tr>\n",
       "      <th>1</th>\n",
       "      <td>2/4/2020</td>\n",
       "      <td>3</td>\n",
       "      <td>This place is just okay. The layout of the sho...</td>\n",
       "      <td>0.8891</td>\n",
       "    </tr>\n",
       "    <tr>\n",
       "      <th>2</th>\n",
       "      <td>1/28/2020</td>\n",
       "      <td>3</td>\n",
       "      <td>I went here for the first time and got a D3 (c...</td>\n",
       "      <td>0.9505</td>\n",
       "    </tr>\n",
       "    <tr>\n",
       "      <th>3</th>\n",
       "      <td>1/1/2020</td>\n",
       "      <td>1</td>\n",
       "      <td>Okay in another world I would be giving a 5 st...</td>\n",
       "      <td>0.9731</td>\n",
       "    </tr>\n",
       "    <tr>\n",
       "      <th>4</th>\n",
       "      <td>2/24/2020</td>\n",
       "      <td>5</td>\n",
       "      <td>I loved their passion fruit green tea with coc...</td>\n",
       "      <td>0.8983</td>\n",
       "    </tr>\n",
       "  </tbody>\n",
       "</table>\n",
       "</div>"
      ],
      "text/plain": [
       "         Date  Star_Rating                                             Review  \\\n",
       "0  10/17/2019            5  This place has been around for years! I rememb...   \n",
       "1    2/4/2020            3  This place is just okay. The layout of the sho...   \n",
       "2   1/28/2020            3  I went here for the first time and got a D3 (c...   \n",
       "3    1/1/2020            1  Okay in another world I would be giving a 5 st...   \n",
       "4   2/24/2020            5  I loved their passion fruit green tea with coc...   \n",
       "\n",
       "   Sentiment  \n",
       "0     0.8908  \n",
       "1     0.8891  \n",
       "2     0.9505  \n",
       "3     0.9731  \n",
       "4     0.8983  "
      ]
     },
     "execution_count": 34,
     "metadata": {},
     "output_type": "execute_result"
    }
   ],
   "source": [
    "df1.head()"
   ]
  },
  {
   "cell_type": "code",
   "execution_count": 63,
   "metadata": {
    "ExecuteTime": {
     "end_time": "2020-02-28T06:01:57.049061Z",
     "start_time": "2020-02-28T06:01:57.040860Z"
    }
   },
   "outputs": [
    {
     "data": {
      "text/plain": [
       "0.8891"
      ]
     },
     "execution_count": 63,
     "metadata": {},
     "output_type": "execute_result"
    }
   ],
   "source": [
    "compound = sentiment_analyzer_scores(df1.iloc[1,2])\n",
    "compound"
   ]
  },
  {
   "cell_type": "code",
   "execution_count": 37,
   "metadata": {
    "ExecuteTime": {
     "end_time": "2020-02-28T05:50:34.026505Z",
     "start_time": "2020-02-28T05:50:34.023234Z"
    }
   },
   "outputs": [],
   "source": [
    "def sentiment(num):\n",
    "    if num > 0:\n",
    "        tag = 'Positive'\n",
    "    elif num == 0:\n",
    "        tag = 'Neutral'\n",
    "    else:\n",
    "        tag = 'Negative'\n",
    "    return tag"
   ]
  },
  {
   "cell_type": "code",
   "execution_count": 38,
   "metadata": {
    "ExecuteTime": {
     "end_time": "2020-02-28T05:50:35.106586Z",
     "start_time": "2020-02-28T05:50:35.103291Z"
    }
   },
   "outputs": [],
   "source": [
    "sentiment_convert= lambda x: sentiment(x)"
   ]
  },
  {
   "cell_type": "code",
   "execution_count": 39,
   "metadata": {
    "ExecuteTime": {
     "end_time": "2020-02-28T05:50:59.410486Z",
     "start_time": "2020-02-28T05:50:59.405327Z"
    }
   },
   "outputs": [],
   "source": [
    "df1['S'] = df1.Sentiment.apply(sentiment_convert);"
   ]
  },
  {
   "cell_type": "code",
   "execution_count": 44,
   "metadata": {
    "ExecuteTime": {
     "end_time": "2020-02-28T05:52:06.449167Z",
     "start_time": "2020-02-28T05:52:06.439501Z"
    }
   },
   "outputs": [
    {
     "data": {
      "text/html": [
       "<div>\n",
       "<style scoped>\n",
       "    .dataframe tbody tr th:only-of-type {\n",
       "        vertical-align: middle;\n",
       "    }\n",
       "\n",
       "    .dataframe tbody tr th {\n",
       "        vertical-align: top;\n",
       "    }\n",
       "\n",
       "    .dataframe thead th {\n",
       "        text-align: right;\n",
       "    }\n",
       "</style>\n",
       "<table border=\"1\" class=\"dataframe\">\n",
       "  <thead>\n",
       "    <tr style=\"text-align: right;\">\n",
       "      <th></th>\n",
       "      <th>Date</th>\n",
       "      <th>Star_Rating</th>\n",
       "      <th>Review</th>\n",
       "      <th>Sentiment</th>\n",
       "      <th>S</th>\n",
       "    </tr>\n",
       "  </thead>\n",
       "  <tbody>\n",
       "    <tr>\n",
       "      <th>0</th>\n",
       "      <td>10/17/2019</td>\n",
       "      <td>5</td>\n",
       "      <td>This place has been around for years! I rememb...</td>\n",
       "      <td>0.8908</td>\n",
       "      <td>Positive</td>\n",
       "    </tr>\n",
       "    <tr>\n",
       "      <th>1</th>\n",
       "      <td>2/4/2020</td>\n",
       "      <td>3</td>\n",
       "      <td>This place is just okay. The layout of the sho...</td>\n",
       "      <td>0.8891</td>\n",
       "      <td>Positive</td>\n",
       "    </tr>\n",
       "    <tr>\n",
       "      <th>2</th>\n",
       "      <td>1/28/2020</td>\n",
       "      <td>3</td>\n",
       "      <td>I went here for the first time and got a D3 (c...</td>\n",
       "      <td>0.9505</td>\n",
       "      <td>Positive</td>\n",
       "    </tr>\n",
       "    <tr>\n",
       "      <th>3</th>\n",
       "      <td>1/1/2020</td>\n",
       "      <td>1</td>\n",
       "      <td>Okay in another world I would be giving a 5 st...</td>\n",
       "      <td>0.9731</td>\n",
       "      <td>Positive</td>\n",
       "    </tr>\n",
       "    <tr>\n",
       "      <th>4</th>\n",
       "      <td>2/24/2020</td>\n",
       "      <td>5</td>\n",
       "      <td>I loved their passion fruit green tea with coc...</td>\n",
       "      <td>0.8983</td>\n",
       "      <td>Positive</td>\n",
       "    </tr>\n",
       "  </tbody>\n",
       "</table>\n",
       "</div>"
      ],
      "text/plain": [
       "         Date  Star_Rating                                             Review  \\\n",
       "0  10/17/2019            5  This place has been around for years! I rememb...   \n",
       "1    2/4/2020            3  This place is just okay. The layout of the sho...   \n",
       "2   1/28/2020            3  I went here for the first time and got a D3 (c...   \n",
       "3    1/1/2020            1  Okay in another world I would be giving a 5 st...   \n",
       "4   2/24/2020            5  I loved their passion fruit green tea with coc...   \n",
       "\n",
       "   Sentiment         S  \n",
       "0     0.8908  Positive  \n",
       "1     0.8891  Positive  \n",
       "2     0.9505  Positive  \n",
       "3     0.9731  Positive  \n",
       "4     0.8983  Positive  "
      ]
     },
     "execution_count": 44,
     "metadata": {},
     "output_type": "execute_result"
    }
   ],
   "source": [
    "df1.head()"
   ]
  },
  {
   "cell_type": "code",
   "execution_count": 45,
   "metadata": {
    "ExecuteTime": {
     "end_time": "2020-02-28T05:54:35.555542Z",
     "start_time": "2020-02-28T05:54:35.547776Z"
    }
   },
   "outputs": [],
   "source": [
    "topic_df = pd.read_pickle('topic_data.pkl')"
   ]
  },
  {
   "cell_type": "code",
   "execution_count": 47,
   "metadata": {
    "ExecuteTime": {
     "end_time": "2020-02-28T05:55:20.725925Z",
     "start_time": "2020-02-28T05:55:20.721785Z"
    }
   },
   "outputs": [],
   "source": [
    "df1['DominantTopic'] = topic_df['Dominant_Topic']"
   ]
  },
  {
   "cell_type": "code",
   "execution_count": 48,
   "metadata": {
    "ExecuteTime": {
     "end_time": "2020-02-28T05:55:23.570771Z",
     "start_time": "2020-02-28T05:55:23.559653Z"
    }
   },
   "outputs": [
    {
     "data": {
      "text/html": [
       "<div>\n",
       "<style scoped>\n",
       "    .dataframe tbody tr th:only-of-type {\n",
       "        vertical-align: middle;\n",
       "    }\n",
       "\n",
       "    .dataframe tbody tr th {\n",
       "        vertical-align: top;\n",
       "    }\n",
       "\n",
       "    .dataframe thead th {\n",
       "        text-align: right;\n",
       "    }\n",
       "</style>\n",
       "<table border=\"1\" class=\"dataframe\">\n",
       "  <thead>\n",
       "    <tr style=\"text-align: right;\">\n",
       "      <th></th>\n",
       "      <th>Date</th>\n",
       "      <th>Star_Rating</th>\n",
       "      <th>Review</th>\n",
       "      <th>Sentiment</th>\n",
       "      <th>S</th>\n",
       "      <th>DominantTopic</th>\n",
       "    </tr>\n",
       "  </thead>\n",
       "  <tbody>\n",
       "    <tr>\n",
       "      <th>0</th>\n",
       "      <td>10/17/2019</td>\n",
       "      <td>5</td>\n",
       "      <td>This place has been around for years! I rememb...</td>\n",
       "      <td>0.8908</td>\n",
       "      <td>Positive</td>\n",
       "      <td>WaitTime</td>\n",
       "    </tr>\n",
       "    <tr>\n",
       "      <th>1</th>\n",
       "      <td>2/4/2020</td>\n",
       "      <td>3</td>\n",
       "      <td>This place is just okay. The layout of the sho...</td>\n",
       "      <td>0.8891</td>\n",
       "      <td>Positive</td>\n",
       "      <td>WaitTime</td>\n",
       "    </tr>\n",
       "    <tr>\n",
       "      <th>2</th>\n",
       "      <td>1/28/2020</td>\n",
       "      <td>3</td>\n",
       "      <td>I went here for the first time and got a D3 (c...</td>\n",
       "      <td>0.9505</td>\n",
       "      <td>Positive</td>\n",
       "      <td>IcedMilk</td>\n",
       "    </tr>\n",
       "    <tr>\n",
       "      <th>3</th>\n",
       "      <td>1/1/2020</td>\n",
       "      <td>1</td>\n",
       "      <td>Okay in another world I would be giving a 5 st...</td>\n",
       "      <td>0.9731</td>\n",
       "      <td>Positive</td>\n",
       "      <td>IcedMilk</td>\n",
       "    </tr>\n",
       "    <tr>\n",
       "      <th>4</th>\n",
       "      <td>2/24/2020</td>\n",
       "      <td>5</td>\n",
       "      <td>I loved their passion fruit green tea with coc...</td>\n",
       "      <td>0.8983</td>\n",
       "      <td>Positive</td>\n",
       "      <td>Tea</td>\n",
       "    </tr>\n",
       "  </tbody>\n",
       "</table>\n",
       "</div>"
      ],
      "text/plain": [
       "         Date  Star_Rating                                             Review  \\\n",
       "0  10/17/2019            5  This place has been around for years! I rememb...   \n",
       "1    2/4/2020            3  This place is just okay. The layout of the sho...   \n",
       "2   1/28/2020            3  I went here for the first time and got a D3 (c...   \n",
       "3    1/1/2020            1  Okay in another world I would be giving a 5 st...   \n",
       "4   2/24/2020            5  I loved their passion fruit green tea with coc...   \n",
       "\n",
       "   Sentiment         S DominantTopic  \n",
       "0     0.8908  Positive      WaitTime  \n",
       "1     0.8891  Positive      WaitTime  \n",
       "2     0.9505  Positive      IcedMilk  \n",
       "3     0.9731  Positive      IcedMilk  \n",
       "4     0.8983  Positive           Tea  "
      ]
     },
     "execution_count": 48,
     "metadata": {},
     "output_type": "execute_result"
    }
   ],
   "source": [
    "df1.head()"
   ]
  },
  {
   "cell_type": "code",
   "execution_count": 53,
   "metadata": {
    "ExecuteTime": {
     "end_time": "2020-02-28T05:58:03.131656Z",
     "start_time": "2020-02-28T05:58:03.124824Z"
    }
   },
   "outputs": [],
   "source": [
    "topic_sentiment_count = pd.DataFrame(df1.groupby('DominantTopic')['S'].value_counts())"
   ]
  },
  {
   "cell_type": "code",
   "execution_count": 55,
   "metadata": {
    "ExecuteTime": {
     "end_time": "2020-02-28T05:58:33.669195Z",
     "start_time": "2020-02-28T05:58:33.664939Z"
    }
   },
   "outputs": [],
   "source": [
    "topic_sentiment_count.rename(columns={'S':'count'},inplace=True)"
   ]
  },
  {
   "cell_type": "code",
   "execution_count": 56,
   "metadata": {
    "ExecuteTime": {
     "end_time": "2020-02-28T05:58:48.466188Z",
     "start_time": "2020-02-28T05:58:48.461232Z"
    }
   },
   "outputs": [],
   "source": [
    "topic_sentiment_count.reset_index(inplace=True)"
   ]
  },
  {
   "cell_type": "code",
   "execution_count": 61,
   "metadata": {
    "ExecuteTime": {
     "end_time": "2020-02-28T06:00:46.764739Z",
     "start_time": "2020-02-28T06:00:46.452431Z"
    }
   },
   "outputs": [
    {
     "data": {
      "image/png": "[encoded data removed]",
      "text/plain": [
       "<Figure size 1080x576 with 1 Axes>"
      ]
     },
     "metadata": {
      "needs_background": "light"
     },
     "output_type": "display_data"
    }
   ],
   "source": [
    "%matplotlib inline\n",
    "import seaborn as sns\n",
    "import matplotlib.pyplot as plt\n",
    "#bar plot for sentiment on each topic\n",
    "plt.figure(figsize=(15,8))\n",
    "sns.barplot(x='DominantTopic', y='count', hue='S', data=topic_sentiment_count,palette=['C2', \"Red\", \"Gray\"],\n",
    "           order = topic_sentiment_count['DominantTopic'].value_counts().index)\n",
    "\n",
    "plt.xlabel('Topics', size=20)\n",
    "plt.ylabel('Count', size = 20)\n",
    "plt.title('Sentiment on Topics(Vader)', size = 20)\n",
    "plt.savefig('topic_sentiment_vader.jpg')\n",
    "plt.show()"
   ]
  },
  {
   "cell_type": "markdown",
   "metadata": {},
   "source": [
    "## Sentiment analysis on yelp reviews using Vader is not the most accurate one.  There are way more positive sentiment reviews than the star rating indicates.  Aspect based sentiment will be the better method to analyze the sentiment of the reviews.  "
   ]
  },
  {
   "cell_type": "code",
   "execution_count": null,
   "metadata": {},
   "outputs": [],
   "source": []
  }
 ],
 "metadata": {
  "kernelspec": {
   "display_name": "Python 3",
   "language": "python",
   "name": "python3"
  },
  "language_info": {
   "codemirror_mode": {
    "name": "ipython",
    "version": 3
   },
   "file_extension": ".py",
   "mimetype": "text/x-python",
   "name": "python",
   "nbconvert_exporter": "python",
   "pygments_lexer": "ipython3",
   "version": "3.7.4"
  }
 },
 "nbformat": 4,
 "nbformat_minor": 4
}
